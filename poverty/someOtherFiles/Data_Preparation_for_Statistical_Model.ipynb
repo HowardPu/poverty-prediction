{
 "cells": [
  {
   "cell_type": "code",
   "execution_count": 49,
   "metadata": {},
   "outputs": [],
   "source": [
    "import pandas as pd\n",
    "import seaborn as sns\n",
    "from matplotlib import pyplot as plt\n",
    "# import altair as alt\n",
    "# alt.renderers.enable('notebook')"
   ]
  },
  {
   "cell_type": "code",
   "execution_count": 50,
   "metadata": {},
   "outputs": [],
   "source": [
    "train_data = pd.read_csv(\"poverty/src/data/train.csv\")"
   ]
  },
  {
   "cell_type": "markdown",
   "metadata": {},
   "source": [
    "# Impute Missing Value"
   ]
  },
  {
   "cell_type": "markdown",
   "metadata": {},
   "source": [
    "According to the following table, we know that variables rez_esc, v18q1, v2a1, SQBmeaned, and meaneduc contain missing value. <br>\n",
    "<br>\n",
    "**rez_esc**: Years behind in school<br>\n",
    "**v18q1**: number of tablets household owns<br>\n",
    "**v2a1**: Monthly rent payment<br>\n",
    "**SQBmeaned**: square of the mean years of education of adults (>=18) in the household<br>\n",
    "**meaneduc**: average years of education for adults (18+)<br>"
   ]
  },
  {
   "cell_type": "code",
   "execution_count": 51,
   "metadata": {},
   "outputs": [
    {
     "data": {
      "text/html": [
       "<div>\n",
       "<style>\n",
       "    .dataframe thead tr:only-child th {\n",
       "        text-align: right;\n",
       "    }\n",
       "\n",
       "    .dataframe thead th {\n",
       "        text-align: left;\n",
       "    }\n",
       "\n",
       "    .dataframe tbody tr th {\n",
       "        vertical-align: top;\n",
       "    }\n",
       "</style>\n",
       "<table border=\"1\" class=\"dataframe\">\n",
       "  <thead>\n",
       "    <tr style=\"text-align: right;\">\n",
       "      <th></th>\n",
       "      <th>total</th>\n",
       "      <th>percent</th>\n",
       "    </tr>\n",
       "  </thead>\n",
       "  <tbody>\n",
       "    <tr>\n",
       "      <th>rez_esc</th>\n",
       "      <td>7928</td>\n",
       "      <td>0.829549</td>\n",
       "    </tr>\n",
       "    <tr>\n",
       "      <th>v18q1</th>\n",
       "      <td>7342</td>\n",
       "      <td>0.768233</td>\n",
       "    </tr>\n",
       "    <tr>\n",
       "      <th>v2a1</th>\n",
       "      <td>6860</td>\n",
       "      <td>0.717798</td>\n",
       "    </tr>\n",
       "    <tr>\n",
       "      <th>SQBmeaned</th>\n",
       "      <td>5</td>\n",
       "      <td>0.000523</td>\n",
       "    </tr>\n",
       "    <tr>\n",
       "      <th>meaneduc</th>\n",
       "      <td>5</td>\n",
       "      <td>0.000523</td>\n",
       "    </tr>\n",
       "    <tr>\n",
       "      <th>instlevel2</th>\n",
       "      <td>0</td>\n",
       "      <td>0.000000</td>\n",
       "    </tr>\n",
       "    <tr>\n",
       "      <th>instlevel1</th>\n",
       "      <td>0</td>\n",
       "      <td>0.000000</td>\n",
       "    </tr>\n",
       "  </tbody>\n",
       "</table>\n",
       "</div>"
      ],
      "text/plain": [
       "            total   percent\n",
       "rez_esc      7928  0.829549\n",
       "v18q1        7342  0.768233\n",
       "v2a1         6860  0.717798\n",
       "SQBmeaned       5  0.000523\n",
       "meaneduc        5  0.000523\n",
       "instlevel2      0  0.000000\n",
       "instlevel1      0  0.000000"
      ]
     },
     "execution_count": 51,
     "metadata": {},
     "output_type": "execute_result"
    }
   ],
   "source": [
    "# Number of missing in each column\n",
    "missing = pd.DataFrame(train_data.isnull().sum()).rename(columns = {0: 'total'})\n",
    "\n",
    "# Create a percentage missing\n",
    "missing['percent'] = missing['total'] / len(train_data)\n",
    "\n",
    "missing.sort_values('percent', ascending = False).head(7)"
   ]
  },
  {
   "cell_type": "markdown",
   "metadata": {},
   "source": [
    "## 1. rez_esc"
   ]
  },
  {
   "cell_type": "markdown",
   "metadata": {},
   "source": [
    "`rez_esc` indicates years behind in school. Since the percentage of missing value is more than 80%, it will be hard to predict the missing value and the predicted value may be inaccuate. Therefore, we choose to drop this column. "
   ]
  },
  {
   "cell_type": "code",
   "execution_count": 52,
   "metadata": {},
   "outputs": [],
   "source": [
    "null_rez = train_data['rez_esc'].isnull()"
   ]
  },
  {
   "cell_type": "code",
   "execution_count": 53,
   "metadata": {},
   "outputs": [
    {
     "name": "stdout",
     "output_type": "stream",
     "text": [
      "The row with missing value: 0.82954902166\n"
     ]
    }
   ],
   "source": [
    "print('The row with missing value: ' + str(sum(null_rez) / len(null_rez)))"
   ]
  },
  {
   "cell_type": "code",
   "execution_count": 54,
   "metadata": {},
   "outputs": [],
   "source": [
    "train_data = train_data.drop(\"rez_esc\", axis = 1)"
   ]
  },
  {
   "cell_type": "markdown",
   "metadata": {},
   "source": [
    "## 2. v18q1"
   ]
  },
  {
   "cell_type": "markdown",
   "metadata": {},
   "source": [
    "In the dataset, we know that `v18q` indicates whether or not a family owns a tablet, where 0 indicates no tablet and 1 indicates own tablet. When we check v18q and v18q1, we find that when column v18q shows 0, there is a missing value in column v18q1. Then, we suppose that families with a NaN in this category just do not own a tablet. "
   ]
  },
  {
   "cell_type": "code",
   "execution_count": 55,
   "metadata": {},
   "outputs": [
    {
     "data": {
      "text/html": [
       "<div>\n",
       "<style>\n",
       "    .dataframe thead tr:only-child th {\n",
       "        text-align: right;\n",
       "    }\n",
       "\n",
       "    .dataframe thead th {\n",
       "        text-align: left;\n",
       "    }\n",
       "\n",
       "    .dataframe tbody tr th {\n",
       "        vertical-align: top;\n",
       "    }\n",
       "</style>\n",
       "<table border=\"1\" class=\"dataframe\">\n",
       "  <thead>\n",
       "    <tr style=\"text-align: right;\">\n",
       "      <th></th>\n",
       "      <th>v18q</th>\n",
       "      <th>v18q1</th>\n",
       "    </tr>\n",
       "  </thead>\n",
       "  <tbody>\n",
       "    <tr>\n",
       "      <th>0</th>\n",
       "      <td>0</td>\n",
       "      <td>NaN</td>\n",
       "    </tr>\n",
       "    <tr>\n",
       "      <th>1</th>\n",
       "      <td>1</td>\n",
       "      <td>1.0</td>\n",
       "    </tr>\n",
       "    <tr>\n",
       "      <th>2</th>\n",
       "      <td>0</td>\n",
       "      <td>NaN</td>\n",
       "    </tr>\n",
       "    <tr>\n",
       "      <th>3</th>\n",
       "      <td>1</td>\n",
       "      <td>1.0</td>\n",
       "    </tr>\n",
       "    <tr>\n",
       "      <th>4</th>\n",
       "      <td>1</td>\n",
       "      <td>1.0</td>\n",
       "    </tr>\n",
       "  </tbody>\n",
       "</table>\n",
       "</div>"
      ],
      "text/plain": [
       "   v18q  v18q1\n",
       "0     0    NaN\n",
       "1     1    1.0\n",
       "2     0    NaN\n",
       "3     1    1.0\n",
       "4     1    1.0"
      ]
     },
     "execution_count": 55,
     "metadata": {},
     "output_type": "execute_result"
    }
   ],
   "source": [
    "train_data[['v18q','v18q1']].head()"
   ]
  },
  {
   "cell_type": "markdown",
   "metadata": {},
   "source": [
    "We choose to groupby the value of v18q (which is 1 for owns a tablet and 0 for does not) and then calculate the number of null values for v18q1. This will tell us if the null values represent that the family does not own a tablet."
   ]
  },
  {
   "cell_type": "code",
   "execution_count": 56,
   "metadata": {},
   "outputs": [
    {
     "data": {
      "text/html": [
       "<div>\n",
       "<style>\n",
       "    .dataframe thead tr:only-child th {\n",
       "        text-align: right;\n",
       "    }\n",
       "\n",
       "    .dataframe thead th {\n",
       "        text-align: left;\n",
       "    }\n",
       "\n",
       "    .dataframe tbody tr th {\n",
       "        vertical-align: top;\n",
       "    }\n",
       "</style>\n",
       "<table border=\"1\" class=\"dataframe\">\n",
       "  <thead>\n",
       "    <tr style=\"text-align: right;\">\n",
       "      <th></th>\n",
       "      <th>num</th>\n",
       "    </tr>\n",
       "    <tr>\n",
       "      <th>v18q</th>\n",
       "      <th></th>\n",
       "    </tr>\n",
       "  </thead>\n",
       "  <tbody>\n",
       "    <tr>\n",
       "      <th>0</th>\n",
       "      <td>7342</td>\n",
       "    </tr>\n",
       "    <tr>\n",
       "      <th>1</th>\n",
       "      <td>0</td>\n",
       "    </tr>\n",
       "  </tbody>\n",
       "</table>\n",
       "</div>"
      ],
      "text/plain": [
       "       num\n",
       "v18q      \n",
       "0     7342\n",
       "1        0"
      ]
     },
     "execution_count": 56,
     "metadata": {},
     "output_type": "execute_result"
    }
   ],
   "source": [
    "null_df = train_data.groupby('v18q')['v18q1'].apply(lambda x: x.isnull().sum()).to_frame(name=None)\n",
    "null_df.columns = ['num']\n",
    "null_df"
   ]
  },
  {
   "cell_type": "markdown",
   "metadata": {},
   "source": [
    "Therefore, according to the result above, we know that family with NaN in v18q1 means that the family does not own a tablet. To be more specific, we can fill in the missing value with value 0. "
   ]
  },
  {
   "cell_type": "code",
   "execution_count": 57,
   "metadata": {},
   "outputs": [],
   "source": [
    "train_data['v18q1'] = train_data['v18q1'].fillna(0)"
   ]
  },
  {
   "cell_type": "markdown",
   "metadata": {},
   "source": [
    "## 3. v2a1"
   ]
  },
  {
   "cell_type": "markdown",
   "metadata": {},
   "source": [
    "`v2a1` represents monthly rent payment. <br>\n",
    "In order to impute the missing values of the monthly rent payment, we also check the relationship between v2a1 and tipovivi which represent the ownership or renting status of the home. <br>\n",
    "For this plot, we show the ownership status of those homes with a nan for the monthyl rent payment."
   ]
  },
  {
   "cell_type": "code",
   "execution_count": 58,
   "metadata": {},
   "outputs": [],
   "source": [
    "data_with_null_v2a1 = train_data.loc[train_data['v2a1'].isnull()]"
   ]
  },
  {
   "cell_type": "code",
   "execution_count": 59,
   "metadata": {},
   "outputs": [],
   "source": [
    "own_variables = [x for x in data_with_null_v2a1 if x.startswith('tipo')]"
   ]
  },
  {
   "cell_type": "code",
   "execution_count": 60,
   "metadata": {},
   "outputs": [],
   "source": [
    "data_with_null_v2a1[own_variables].sum().plot.bar(color = 'royalblue');\n",
    "plt.xticks([0, 1, 2, 3, 4],\n",
    "           ['Owns and Paid Off', 'Owns and Paying', 'Rented', 'Precarious', 'Other'],\n",
    "          rotation = 60)\n",
    "plt.title('Home Ownership Status for Households Missing Rent Payments');"
   ]
  },
  {
   "cell_type": "markdown",
   "metadata": {},
   "source": [
    "We can find that most of family with the missing value in v2a1 \"owns and paid off\" their house so they do not have to pay the rent. For \"Precarious\" and \"Other\", for any reason, the families do not need to pay for the rent as well. <br>\n",
    "Therefore, we will impute the missing value with value 0 in this column. "
   ]
  },
  {
   "cell_type": "code",
   "execution_count": 61,
   "metadata": {},
   "outputs": [],
   "source": [
    "train_data['v2a1'] = train_data['v2a1'].fillna(0)"
   ]
  },
  {
   "cell_type": "markdown",
   "metadata": {},
   "source": [
    "## 4. SQBmeaned & meaneduc"
   ]
  },
  {
   "cell_type": "markdown",
   "metadata": {},
   "source": [
    "We know that SQBmeaned is square of the meaneduc and there are only 5 rows of missing value. We choose to drop these 5 rows of data."
   ]
  },
  {
   "cell_type": "code",
   "execution_count": 62,
   "metadata": {},
   "outputs": [],
   "source": [
    "train_data = train_data.dropna()"
   ]
  },
  {
   "cell_type": "markdown",
   "metadata": {},
   "source": [
    "# Combine Dummy Data"
   ]
  },
  {
   "cell_type": "markdown",
   "metadata": {},
   "source": [
    "1. We find that there are two columns `tamhog` and `hhsize`both mean the size of the household, we choose to delete column `tamhog`."
   ]
  },
  {
   "cell_type": "code",
   "execution_count": 63,
   "metadata": {},
   "outputs": [
    {
     "name": "stdout",
     "output_type": "stream",
     "text": [
      "The percentage of the same value in tamhog and hhsize: 1.0\n"
     ]
    }
   ],
   "source": [
    "print('The percentage of the same value in tamhog and hhsize: '+ str(len(train_data.loc[train_data['tamhog'] == train_data['hhsize']]) / len(train_data)))"
   ]
  },
  {
   "cell_type": "code",
   "execution_count": 64,
   "metadata": {},
   "outputs": [],
   "source": [
    "train_data = train_data.drop(\"tamhog\", axis = 1)"
   ]
  },
  {
   "cell_type": "markdown",
   "metadata": {},
   "source": [
    "2. Since there are many dummy data in the dataset, in order to do statistical analyses conveniently, we choose to combine the dummy data."
   ]
  },
  {
   "cell_type": "code",
   "execution_count": 65,
   "metadata": {},
   "outputs": [],
   "source": [
    "def fill_outside_wall_material(row):\n",
    "    if row['paredblolad'] == 1:\n",
    "        return 'Block or Brick'\n",
    "    elif row['paredzocalo'] == 1:\n",
    "        return 'Socket'\n",
    "    elif row['paredpreb'] == 1:\n",
    "        return 'Prefabricated or Cement'\n",
    "    elif row['pareddes'] == 1:\n",
    "        return 'Waste Matrial'\n",
    "    elif row['paredmad'] == 1:\n",
    "        return 'Wood'\n",
    "    elif row['paredzinc'] == 1:\n",
    "        return 'Zink'\n",
    "    elif row['paredfibras'] == 1:\n",
    "        return 'Natural Fibers'\n",
    "    elif row['paredother'] == 1:\n",
    "        return 'Other'\n",
    "    else:\n",
    "        return 'Unidentifiable'"
   ]
  },
  {
   "cell_type": "code",
   "execution_count": 66,
   "metadata": {},
   "outputs": [],
   "source": [
    "def fill_floor_material(row):\n",
    "    if row['pisomoscer'] == 1:\n",
    "        return 'Mosaic, Ceramic, Terrazo'\n",
    "    elif row['pisocemento'] == 1:\n",
    "        return 'Cement'\n",
    "    elif row['pisoother'] == 1:\n",
    "        return 'Other'\n",
    "    elif row['pisonatur'] == 1:\n",
    "        return 'Natural Material'\n",
    "    elif row['pisonotiene'] == 1:\n",
    "        return 'No Floor'\n",
    "    elif row['pisomadera'] == 1:\n",
    "        return 'Wood'\n",
    "    else:\n",
    "        return 'Unidentifiable'"
   ]
  },
  {
   "cell_type": "code",
   "execution_count": 67,
   "metadata": {},
   "outputs": [],
   "source": [
    "def fill_roof_material(row):\n",
    "    if row['techozinc'] == 1:\n",
    "        return 'Metal Foil or Zink'\n",
    "    elif row['techoentrepiso'] == 1:\n",
    "        return 'Fiber Cement or Mezzanine'\n",
    "    elif row['techocane'] == 1:\n",
    "        return 'Natural Fibers'\n",
    "    elif row['techootro'] == 1:\n",
    "        return 'Other'\n",
    "    elif row['cielorazo'] != 1:\n",
    "        return 'No Ceiling'\n",
    "    else:\n",
    "        return 'Unidentifiable'"
   ]
  },
  {
   "cell_type": "code",
   "execution_count": 68,
   "metadata": {},
   "outputs": [],
   "source": [
    "def fill_water_provision(row):\n",
    "    if row['abastaguadentro'] == 1:\n",
    "        return 'Inside the Wall'\n",
    "    elif row['abastaguafuera'] == 1:\n",
    "        return 'Outside the Wall'\n",
    "    elif row['abastaguano'] == 1:\n",
    "        return 'No Provision'\n",
    "    else:\n",
    "        return 'Unidentifiable'"
   ]
  },
  {
   "cell_type": "code",
   "execution_count": 69,
   "metadata": {},
   "outputs": [],
   "source": [
    "def fill_electricity_source(row):\n",
    "    if row['public'] == 1:\n",
    "        return 'CNFL, ICE, ESPH/JASEC'\n",
    "    elif row['planpri'] == 1:\n",
    "        return 'Private Plant'\n",
    "    elif row['noelec'] == 1:\n",
    "        return 'No Electricity'\n",
    "    elif row['coopele'] == 1:\n",
    "        return 'Cooperative'\n",
    "    else:\n",
    "        return 'Unidentifiable'"
   ]
  },
  {
   "cell_type": "code",
   "execution_count": 70,
   "metadata": {},
   "outputs": [],
   "source": [
    "def fill_toilet(row):\n",
    "    if row['sanitario1'] == 1:\n",
    "        return 'No Toilet'\n",
    "    elif row['sanitario2'] == 1:\n",
    "        return 'Sewer or Cesspool'\n",
    "    elif row['sanitario3'] == 1:\n",
    "        return 'Septic Tank'\n",
    "    elif row['sanitario5'] == 1:\n",
    "        return 'Black Hole or Letrine'\n",
    "    elif row['sanitario6'] == 1:\n",
    "        return 'Other System'\n",
    "    else:\n",
    "        return 'Unidentifiable'"
   ]
  },
  {
   "cell_type": "code",
   "execution_count": 71,
   "metadata": {},
   "outputs": [],
   "source": [
    "def fill_cooking_energy_source(row):\n",
    "    if row['energcocinar1'] == 1:\n",
    "        return 'No Kitchen'\n",
    "    elif row['energcocinar2'] == 1:\n",
    "        return 'Electricity'\n",
    "    elif row['energcocinar3'] == 1:\n",
    "        return 'Gas'\n",
    "    elif row['energcocinar4'] == 1:\n",
    "        return 'Wood Charocal'\n",
    "    else:\n",
    "        return 'Unidentifiable'"
   ]
  },
  {
   "cell_type": "code",
   "execution_count": 72,
   "metadata": {},
   "outputs": [],
   "source": [
    "def fill_rubbish_disposal(row):\n",
    "    if row['elimbasu1'] == 1:\n",
    "        return 'Tanker Trunck'\n",
    "    elif row['elimbasu2'] == 1:\n",
    "        return 'Botan Hollow or Buried'\n",
    "    elif row['elimbasu3'] == 1:\n",
    "        return 'Burning'\n",
    "    elif row['elimbasu4'] == 1:\n",
    "        return 'Unoccupied Space'\n",
    "    elif row['elimbasu5'] == 1:\n",
    "        return 'River, Creek, or Sea'\n",
    "    elif row['elimbasu6'] == 1:\n",
    "        return 'Other'\n",
    "    else:\n",
    "        return 'Unidentifiable'"
   ]
  },
  {
   "cell_type": "code",
   "execution_count": 73,
   "metadata": {},
   "outputs": [],
   "source": [
    "def fill_wall_quality(row):\n",
    "    if row['epared1'] == 1:\n",
    "        return 'Bad'\n",
    "    elif row['epared2'] == 1:\n",
    "        return 'Regular'\n",
    "    elif row['epared3'] == 1:\n",
    "        return 'Good'\n",
    "    else:\n",
    "        return 'Unidentifiable'"
   ]
  },
  {
   "cell_type": "code",
   "execution_count": 74,
   "metadata": {},
   "outputs": [],
   "source": [
    "def fill_roof_quality(row):\n",
    "    if row['etecho1'] == 1:\n",
    "        return 'Bad'\n",
    "    elif row['etecho2'] == 1:\n",
    "        return 'Regular'\n",
    "    elif row['etecho3'] == 1:\n",
    "        return 'Good'\n",
    "    else:\n",
    "        return 'Unidentifiable'"
   ]
  },
  {
   "cell_type": "code",
   "execution_count": 75,
   "metadata": {},
   "outputs": [],
   "source": [
    "def fill_floor_quality(row):\n",
    "    if row['eviv1'] == 1:\n",
    "        return 'Bad'\n",
    "    elif row['eviv2'] == 1:\n",
    "        return 'Regular'\n",
    "    elif row['eviv3'] == 1:\n",
    "        return 'Good'\n",
    "    else:\n",
    "        return 'Unidentifiable'"
   ]
  },
  {
   "cell_type": "code",
   "execution_count": 76,
   "metadata": {},
   "outputs": [],
   "source": [
    "def fill_gender(row):\n",
    "    if row['male'] == 1:\n",
    "        return 'Male'\n",
    "    elif row['female'] == 1:\n",
    "        return 'Female'\n",
    "    else:\n",
    "        return 'Unidentifiable'"
   ]
  },
  {
   "cell_type": "code",
   "execution_count": 77,
   "metadata": {},
   "outputs": [],
   "source": [
    "def fill_civil_status(row):\n",
    "    if row['estadocivil1'] == 1:\n",
    "        return 'Less Than 10 Years Old'\n",
    "    elif row['estadocivil2'] == 1:\n",
    "        return 'Free or Coupled Union'\n",
    "    elif row['estadocivil3'] == 1:\n",
    "        return 'Married'\n",
    "    elif row['estadocivil4'] == 1:\n",
    "        return 'Divorced'\n",
    "    elif row['estadocivil5'] == 1:\n",
    "        return 'Separated'\n",
    "    elif row['estadocivil6'] == 1:\n",
    "        return 'Widow/er'\n",
    "    elif row['estadocivil7'] == 1:\n",
    "        return 'Single'\n",
    "    else:\n",
    "        return 'Unidentifiable'"
   ]
  },
  {
   "cell_type": "code",
   "execution_count": 78,
   "metadata": {},
   "outputs": [],
   "source": [
    "def fill_relationship(row):\n",
    "    if row['parentesco1'] == 1:\n",
    "        return 'Household Head'\n",
    "    elif row['parentesco2'] == 1:\n",
    "        return 'Spouse/Partner'\n",
    "    elif row['parentesco3'] == 1:\n",
    "        return 'Son/Daughter'\n",
    "    elif row['parentesco4'] == 1:\n",
    "        return 'Stepson/Daughter'\n",
    "    elif row['parentesco5'] == 1:\n",
    "        return 'Son/Daughter in Law'\n",
    "    elif row['parentesco6'] == 1:\n",
    "        return 'Grandson/daughter'\n",
    "    elif row['parentesco7'] == 1:\n",
    "        return 'Mother/Father'\n",
    "    elif row['parentesco8'] == 1:\n",
    "        return 'Father/Mother in Law'\n",
    "    elif row['parentesco9'] == 1:\n",
    "        return 'Brother/Sister'\n",
    "    elif row['parentesco10'] == 1:\n",
    "        return 'Brother/Sister in Law'\n",
    "    elif row['parentesco11'] == 1:\n",
    "        return 'Other Family Member'\n",
    "    elif row['parentesco12'] == 1:\n",
    "        return 'Other Non Family Member'\n",
    "    else:\n",
    "        return 'Unidentifiable'"
   ]
  },
  {
   "cell_type": "code",
   "execution_count": 79,
   "metadata": {},
   "outputs": [],
   "source": [
    "def fill_education_level(row):\n",
    "    if row['instlevel1'] == 1:\n",
    "        return 'No Level of Education'\n",
    "    elif row['instlevel2'] == 1:\n",
    "        return 'Incomplete Primary'\n",
    "    elif row['instlevel3'] == 1:\n",
    "        return 'Complete Primary'\n",
    "    elif row['instlevel4'] == 1:\n",
    "        return 'Incomplete Academic Secondary Level'\n",
    "    elif row['instlevel5'] == 1:\n",
    "        return 'Complete Academic Secondary Level'\n",
    "    elif row['instlevel6'] == 1:\n",
    "        return 'Incomplete Technical Secondary Level'\n",
    "    elif row['instlevel7'] == 1:\n",
    "        return 'Complete Technical Secondary Level'\n",
    "    elif row['instlevel8'] == 1:\n",
    "        return 'Undergraduate and Higher Education'\n",
    "    elif row['instlevel9'] == 1:\n",
    "        return 'Postgraduate Higher Education'\n",
    "    else:\n",
    "        return 'Unidentifiable'"
   ]
  },
  {
   "cell_type": "code",
   "execution_count": 80,
   "metadata": {},
   "outputs": [],
   "source": [
    "def fill_type(row):\n",
    "    if row['tipovivi1'] == 1:\n",
    "        return 'Own and Fully Paid House'\n",
    "    elif row['tipovivi2'] == 1:\n",
    "        return 'Own, Paying in Installments'\n",
    "    elif row['tipovivi3'] == 1:\n",
    "        return 'Rented'\n",
    "    elif row['tipovivi4'] == 1:\n",
    "        return 'Precarious'\n",
    "    elif row['tipovivi5'] == 1:\n",
    "        return 'Other, Assigned or Borrowed'\n",
    "    else:\n",
    "        return 'Unidentifiable'"
   ]
  },
  {
   "cell_type": "code",
   "execution_count": 81,
   "metadata": {},
   "outputs": [],
   "source": [
    "def fill_place(row):\n",
    "    if row['lugar1'] == 1:\n",
    "        return 'Central'\n",
    "    elif row['lugar2'] == 1:\n",
    "        return 'Chorotega'\n",
    "    elif row['lugar3'] == 1:\n",
    "        return 'Pacifico central'\n",
    "    elif row['lugar4'] == 1:\n",
    "        return 'Brunca'\n",
    "    elif row['lugar5'] == 1: \n",
    "        return 'Huetar Atlantica'\n",
    "    elif row['lugar6'] == 1:\n",
    "        return 'Huetar Norte'\n",
    "    else:\n",
    "        return 'Unidentifiable'"
   ]
  },
  {
   "cell_type": "code",
   "execution_count": 82,
   "metadata": {},
   "outputs": [],
   "source": [
    "def fill_area(row):\n",
    "    if row['area1'] == 1:\n",
    "        return 'Urban'\n",
    "    elif row['area2'] == 1:\n",
    "        return 'Rural'\n",
    "    else:\n",
    "        return 'Unidentifiable'"
   ]
  },
  {
   "cell_type": "code",
   "execution_count": 83,
   "metadata": {},
   "outputs": [],
   "source": [
    "def combine_dummy_feature(train_data):\n",
    "    train_data['outside_wall_material'] = train_data.apply (lambda row: fill_outside_wall_material(row),axis=1)\n",
    "    train_data['floor_material'] = train_data.apply (lambda row: fill_floor_material(row),axis=1)    \n",
    "    train_data['roof_material'] = train_data.apply (lambda row: fill_roof_material(row),axis=1)\n",
    "    train_data['water_provision'] = train_data.apply (lambda row: fill_water_provision(row),axis=1)\n",
    "    train_data['electricity_source'] = train_data.apply (lambda row: fill_electricity_source(row),axis=1)\n",
    "    train_data['toilet'] = train_data.apply (lambda row: fill_toilet(row),axis=1)\n",
    "    train_data['cooking_energy_source'] = train_data.apply (lambda row: fill_cooking_energy_source(row),axis=1)\n",
    "    train_data['rubbish_disposal'] = train_data.apply (lambda row: fill_rubbish_disposal(row),axis=1)\n",
    "    train_data['wall_quality'] = train_data.apply (lambda row: fill_wall_quality(row),axis=1)\n",
    "    train_data['roof_quality'] = train_data.apply (lambda row: fill_roof_quality(row),axis=1)\n",
    "    train_data['floor_quality'] = train_data.apply (lambda row: fill_floor_quality(row),axis=1)  \n",
    "    train_data['gender'] = train_data.apply (lambda row: fill_gender(row),axis=1)\n",
    "    train_data['civil_status'] = train_data.apply (lambda row: fill_civil_status(row),axis=1)\n",
    "    train_data['relationship'] = train_data.apply (lambda row: fill_relationship(row),axis=1)    \n",
    "    train_data['education_level'] = train_data.apply (lambda row: fill_education_level(row),axis=1)\n",
    "    train_data['type'] = train_data.apply (lambda row: fill_type(row),axis=1)\n",
    "    train_data['place'] = train_data.apply (lambda row: fill_place(row),axis=1)    \n",
    "    train_data['area'] = train_data.apply (lambda row: fill_area(row),axis=1)\n",
    "    \n",
    "    return train_data"
   ]
  },
  {
   "cell_type": "code",
   "execution_count": 84,
   "metadata": {},
   "outputs": [],
   "source": [
    "def drop_dummy_col(train_data):\n",
    "    wall_lst = ['paredblolad','paredzocalo','paredpreb','pareddes','paredmad','paredzinc','paredfibras','paredother']\n",
    "    floor_lst = ['pisomoscer','pisocemento','pisoother','pisonatur','pisonotiene','pisomadera']\n",
    "    roof_lst = ['techozinc','techoentrepiso','techocane','techootro','cielorazo']\n",
    "    water_provision_lst = ['abastaguadentro','abastaguafuera','abastaguano']\n",
    "    electricity_lst = ['public','planpri','noelec','coopele']\n",
    "    toilet_lst = ['sanitario1','sanitario2','sanitario3','sanitario5','sanitario6']\n",
    "    energy_lst = ['energcocinar1','energcocinar2','energcocinar3','energcocinar4']\n",
    "    disposal_lst = ['elimbasu1','elimbasu2','elimbasu3','elimbasu4','elimbasu5','elimbasu6']\n",
    "    walls_quality_lst = ['epared1','epared2','epared3']\n",
    "    roof_quality_lst = ['etecho1','etecho2','etecho3']\n",
    "    floor_quality_lst = ['eviv1','eviv2','eviv3']\n",
    "    gender_lst = ['male','female']\n",
    "    status_lst = ['estadocivil1','estadocivil2','estadocivil3','estadocivil4','estadocivil5','estadocivil6','estadocivil7']\n",
    "    relationship_lst = ['parentesco1','parentesco2','parentesco3','parentesco4','parentesco5','parentesco6','parentesco7','parentesco8','parentesco9',\n",
    "                'parentesco10','parentesco11','parentesco12']\n",
    "    education_lst = ['instlevel1','instlevel2','instlevel3','instlevel4','instlevel5','instlevel6','instlevel7','instlevel8','instlevel9']\n",
    "    type_lst = ['tipovivi1','tipovivi2','tipovivi3','tipovivi4','tipovivi5']\n",
    "    region_lst = ['lugar1','lugar2','lugar3','lugar4','lugar5','lugar6']\n",
    "    area_lst = ['area1','area2']\n",
    "    \n",
    "    train_data = train_data.drop(wall_lst, axis = 1)\n",
    "    train_data = train_data.drop(floor_lst, axis = 1)\n",
    "    train_data = train_data.drop(roof_lst, axis = 1)\n",
    "    train_data = train_data.drop(water_provision_lst, axis = 1)\n",
    "    train_data = train_data.drop(electricity_lst, axis = 1)\n",
    "    train_data = train_data.drop(toilet_lst, axis = 1)\n",
    "    train_data = train_data.drop(energy_lst, axis = 1)\n",
    "    train_data = train_data.drop(disposal_lst, axis = 1)\n",
    "    train_data = train_data.drop(walls_quality_lst, axis = 1)\n",
    "    train_data = train_data.drop(roof_quality_lst, axis = 1)\n",
    "    train_data = train_data.drop(floor_quality_lst, axis = 1)\n",
    "    train_data = train_data.drop(gender_lst, axis = 1)\n",
    "    train_data = train_data.drop(status_lst, axis = 1)\n",
    "    train_data = train_data.drop(relationship_lst, axis = 1)    \n",
    "    train_data = train_data.drop(education_lst, axis = 1)\n",
    "    train_data = train_data.drop(type_lst, axis = 1)\n",
    "    train_data = train_data.drop(region_lst, axis = 1)\n",
    "    train_data = train_data.drop(area_lst, axis = 1)\n",
    "    \n",
    "    return train_data"
   ]
  },
  {
   "cell_type": "code",
   "execution_count": 85,
   "metadata": {},
   "outputs": [],
   "source": [
    "def clean_dataframe(train_data):\n",
    "    clean_data = combine_dummy_feature(train_data)\n",
    "    clean_data = drop_dummy_col(clean_data)\n",
    "    \n",
    "    return clean_data"
   ]
  },
  {
   "cell_type": "markdown",
   "metadata": {},
   "source": [
    "## Gain Cleaned Data and Save Data as .csv File"
   ]
  },
  {
   "cell_type": "code",
   "execution_count": 86,
   "metadata": {},
   "outputs": [],
   "source": [
    "clean_data = clean_dataframe(train_data)"
   ]
  },
  {
   "cell_type": "code",
   "execution_count": 88,
   "metadata": {},
   "outputs": [],
   "source": [
    "clean_data.to_csv(\"poverty/src/data/poverty_data.csv\", index=False)"
   ]
  },
  {
   "cell_type": "code",
   "execution_count": null,
   "metadata": {},
   "outputs": [],
   "source": []
  }
 ],
 "metadata": {
  "kernelspec": {
   "display_name": "Python 3",
   "language": "python",
   "name": "python3"
  },
  "language_info": {
   "codemirror_mode": {
    "name": "ipython",
    "version": 3
   },
   "file_extension": ".py",
   "mimetype": "text/x-python",
   "name": "python",
   "nbconvert_exporter": "python",
   "pygments_lexer": "ipython3",
   "version": "3.6.1"
  }
 },
 "nbformat": 4,
 "nbformat_minor": 2
}

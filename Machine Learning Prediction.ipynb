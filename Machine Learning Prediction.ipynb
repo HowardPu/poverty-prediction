{
 "cells": [
  {
   "cell_type": "code",
   "execution_count": 2,
   "metadata": {},
   "outputs": [],
   "source": [
    "import pandas as pd\n",
    "import seaborn as sns\n",
    "from matplotlib import pyplot as plt\n",
    "import altair as alt\n",
    "alt.renderers.enable('notebook')\n",
    "\n",
    "from sklearn.feature_selection import SelectFromModel\n",
    "from sklearn.preprocessing import MinMaxScaler       \n",
    "from sklearn.model_selection import train_test_split \n",
    "from sklearn.preprocessing import PolynomialFeatures\n",
    "from sklearn.model_selection import GridSearchCV     \n",
    "from sklearn.pipeline import make_pipeline    \n",
    "\n",
    "from sklearn.naive_bayes import GaussianNB, BernoulliNB, MultinomialNB\n",
    "from sklearn.ensemble import RandomForestRegressor\n",
    "from sklearn.ensemble import RandomForestClassifier\n",
    "\n",
    "from sklearn.model_selection import KFold\n",
    "\n",
    "from statsmodels.tools import eval_measures\n",
    "from sklearn.feature_selection import SelectPercentile\n",
    "from sklearn.feature_selection import VarianceThreshold\n",
    "\n",
    "from sklearn.model_selection import KFold\n",
    "\n",
    "from statsmodels.tools import eval_measures\n",
    "from sklearn.feature_selection import SelectPercentile\n",
    "from sklearn.feature_selection import VarianceThreshold"
   ]
  },
  {
   "cell_type": "code",
   "execution_count": 3,
   "metadata": {},
   "outputs": [],
   "source": [
    "poverty_data = pd.read_csv(\"poverty/src/data/poverty_data_with_dummy.csv\")"
   ]
  },
  {
   "cell_type": "code",
   "execution_count": 4,
   "metadata": {},
   "outputs": [],
   "source": [
    "poverty_data_no_string = poverty_data.drop(\"idhogar\", axis = 1)\n",
    "poverty_data_no_string = poverty_data_no_string.drop(\"Id\", axis = 1)"
   ]
  },
  {
   "cell_type": "code",
   "execution_count": 5,
   "metadata": {},
   "outputs": [],
   "source": [
    "train_features, test_features, train_outcome, test_outcome = train_test_split(\n",
    "    poverty_data_no_string.drop(\"Target\", axis = 1),\n",
    "    poverty_data_no_string.Target,\n",
    "    test_size=0.30, \n",
    "    random_state=11\n",
    ")"
   ]
  },
  {
   "cell_type": "code",
   "execution_count": 6,
   "metadata": {},
   "outputs": [],
   "source": [
    "# selector, threshold for feature selection\n",
    "selecter = SelectPercentile()\n",
    "threshold = VarianceThreshold(.1)\n",
    "\n",
    "# number of folds for cross validation\n",
    "folds = KFold(n_splits=10, shuffle=True, random_state=11)"
   ]
  },
  {
   "cell_type": "markdown",
   "metadata": {},
   "source": [
    "## Naive Bayes "
   ]
  },
  {
   "cell_type": "code",
   "execution_count": 18,
   "metadata": {},
   "outputs": [],
   "source": [
    "nb_scaler = MinMaxScaler()\n",
    "nb_clf = MultinomialNB()\n",
    "\n",
    "nb_poly = PolynomialFeatures()\n",
    "\n",
    "nb_pipe = make_pipeline(nb_poly, threshold,  nb_scaler, selecter, nb_clf)\n",
    "\n",
    "\n",
    "nb_param_grid = {'polynomialfeatures__degree':range(1, 3), \n",
    "                  'selectpercentile__percentile':range(10, 30, 5)}\n",
    "\n",
    "nb_grid_search = GridSearchCV(nb_pipe, nb_param_grid, cv=folds)\n",
    "\n",
    "nb_grid_search_fitted = nb_grid_search.fit(train_features, train_outcome)"
   ]
  },
  {
   "cell_type": "code",
   "execution_count": 19,
   "metadata": {},
   "outputs": [
    {
     "data": {
      "text/plain": [
       "{'polynomialfeatures__degree': 1, 'selectpercentile__percentile': 25}"
      ]
     },
     "execution_count": 19,
     "metadata": {},
     "output_type": "execute_result"
    }
   ],
   "source": [
    "nb_grid_search_fitted.best_params_"
   ]
  },
  {
   "cell_type": "code",
   "execution_count": 20,
   "metadata": {},
   "outputs": [
    {
     "name": "stdout",
     "output_type": "stream",
     "text": [
      "Mean absolute error: 0.6144452198185625\n"
     ]
    }
   ],
   "source": [
    "nb_score = eval_measures.meanabs(nb_grid_search_fitted.predict(test_features).astype(int), test_outcome)\n",
    "\n",
    "print(\"Mean absolute error: \" + str(nb_score))"
   ]
  },
  {
   "cell_type": "markdown",
   "metadata": {},
   "source": [
    "## Random Forest"
   ]
  },
  {
   "cell_type": "code",
   "execution_count": null,
   "metadata": {},
   "outputs": [],
   "source": [
    "rf_scaler = MinMaxScaler()\n",
    "# rf_reg = RandomForestRegressor(random_state = 42)\n",
    "rf_clf = RandomForestClassifier()\n",
    "rf_poly = PolynomialFeatures()\n",
    "rf_pipe = make_pipeline(rf_poly, threshold, rf_scaler, selecter, rf_clf)\n",
    "\n",
    "\n",
    "rf_param_grid = {'polynomialfeatures__degree':range(1, 3),\n",
    "                 'randomforestclassifier__n_estimators':range(90, 110),\n",
    "                 'randomforestclassifier__max_depth': range(2,10, 2),\n",
    "                 'selectpercentile__percentile':range(10, 30, 5)}\n",
    "\n",
    "rf_grid = GridSearchCV(rf_pipe, rf_param_grid, scoring=\"neg_mean_absolute_error\", cv=folds)\n",
    "rf_fit = rf_grid.fit(train_features, train_outcome)"
   ]
  },
  {
   "cell_type": "code",
   "execution_count": null,
   "metadata": {},
   "outputs": [],
   "source": [
    "rf_fit.best_params_"
   ]
  },
  {
   "cell_type": "code",
   "execution_count": null,
   "metadata": {},
   "outputs": [],
   "source": [
    "score = eval_measures.meanabs(rf_fit.predict(test_features), test_outcome)\n",
    "\n",
    "print(\"Mean Absolute Error: \" + str(score))"
   ]
  },
  {
   "cell_type": "markdown",
   "metadata": {},
   "source": [
    "## Adaboost"
   ]
  },
  {
   "cell_type": "code",
   "execution_count": null,
   "metadata": {},
   "outputs": [],
   "source": [
    "# define an adaboost pipeline\n",
    "ada_scaler = MinMaxScaler()\n",
    "ada_reg = AdaBoostRegressor()\n",
    "ada_poly = PolynomialFeatures()\n",
    "\n",
    "ada_pipe = make_pipeline(ada_poly, threshold, ada_scaler, selecter, ada_reg)\n",
    "\n",
    "# define an adaboost grid for hyper tuning\n",
    "ada_param_grid = {'polynomialfeatures__degree':range(1, 3), \n",
    "                  'adaboostregressor__learning_rate': [x / 5 for x in range(1, 5)],\n",
    "                  'selectpercentile__percentile':range(10, 30, 5)}\n",
    "\n",
    "ada_grid = GridSearchCV(ada_pipe, ada_param_grid, scoring=\"neg_mean_absolute_error\", cv=folds)\n",
    "ada_fit = ada_grid.fit(train_features, train_outcome)"
   ]
  },
  {
   "cell_type": "code",
   "execution_count": null,
   "metadata": {},
   "outputs": [],
   "source": [
    "ada_fit.best_params_"
   ]
  },
  {
   "cell_type": "code",
   "execution_count": null,
   "metadata": {},
   "outputs": [],
   "source": [
    "score = eval_measures.meanabs(ada_fit.predict(test_features), test_outcome)\n",
    "\n",
    "print(\"Mean absolute error: \" + str(score))"
   ]
  }
 ],
 "metadata": {
  "kernelspec": {
   "display_name": "Python 3",
   "language": "python",
   "name": "python3"
  },
  "language_info": {
   "codemirror_mode": {
    "name": "ipython",
    "version": 3
   },
   "file_extension": ".py",
   "mimetype": "text/x-python",
   "name": "python",
   "nbconvert_exporter": "python",
   "pygments_lexer": "ipython3",
   "version": "3.6.5"
  }
 },
 "nbformat": 4,
 "nbformat_minor": 2
}

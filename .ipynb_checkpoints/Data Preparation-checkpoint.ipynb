{
 "cells": [
  {
   "cell_type": "code",
   "execution_count": 109,
   "metadata": {},
   "outputs": [],
   "source": [
    "import pandas as pd\n",
    "import seaborn as sns\n",
    "from matplotlib import pyplot as plt"
   ]
  },
  {
   "cell_type": "code",
   "execution_count": 110,
   "metadata": {},
   "outputs": [],
   "source": [
    "train_data = pd.read_csv(\"poverty/src/data/train.csv\")\n",
    "test_data = pd.read_csv(\"poverty/src/data/test.csv\")\n",
    "submission_data = pd.read_csv(\"poverty/src/data/sample_submission.csv\")"
   ]
  },
  {
   "cell_type": "code",
   "execution_count": 111,
   "metadata": {},
   "outputs": [
    {
     "data": {
      "text/plain": [
       "143"
      ]
     },
     "execution_count": 111,
     "metadata": {},
     "output_type": "execute_result"
    }
   ],
   "source": [
    "len(list(train_data))"
   ]
  },
  {
   "cell_type": "markdown",
   "metadata": {},
   "source": [
    "may choose to delete 'rez_esc' column"
   ]
  },
  {
   "cell_type": "code",
   "execution_count": 112,
   "metadata": {},
   "outputs": [
    {
     "data": {
      "text/plain": [
       "9557"
      ]
     },
     "execution_count": 112,
     "metadata": {},
     "output_type": "execute_result"
    }
   ],
   "source": [
    "len(train_data['rez_esc']) # 9557 total rows"
   ]
  },
  {
   "cell_type": "code",
   "execution_count": 113,
   "metadata": {},
   "outputs": [
    {
     "data": {
      "text/plain": [
       "7928"
      ]
     },
     "execution_count": 113,
     "metadata": {},
     "output_type": "execute_result"
    }
   ],
   "source": [
    "sum(train_data['rez_esc'].isna())"
   ]
  },
  {
   "cell_type": "code",
   "execution_count": 114,
   "metadata": {},
   "outputs": [
    {
     "data": {
      "text/plain": [
       "v2a1         True\n",
       "v18q1        True\n",
       "rez_esc      True\n",
       "meaneduc     True\n",
       "SQBmeaned    True\n",
       "dtype: bool"
      ]
     },
     "execution_count": 114,
     "metadata": {},
     "output_type": "execute_result"
    }
   ],
   "source": [
    "train_data.isna().any()[lambda x: x]"
   ]
  },
  {
   "cell_type": "code",
   "execution_count": 115,
   "metadata": {},
   "outputs": [
    {
     "data": {
      "text/plain": [
       "5"
      ]
     },
     "execution_count": 115,
     "metadata": {},
     "output_type": "execute_result"
    }
   ],
   "source": [
    "sum(train_data['SQBmeaned'].isna()) # squared of meaneduc"
   ]
  },
  {
   "cell_type": "code",
   "execution_count": 116,
   "metadata": {},
   "outputs": [
    {
     "data": {
      "text/plain": [
       "5"
      ]
     },
     "execution_count": 116,
     "metadata": {},
     "output_type": "execute_result"
    }
   ],
   "source": [
    "sum(train_data['meaneduc'].isna()) ## average years of education for adults"
   ]
  },
  {
   "cell_type": "code",
   "execution_count": 117,
   "metadata": {},
   "outputs": [
    {
     "data": {
      "text/plain": [
       "7928"
      ]
     },
     "execution_count": 117,
     "metadata": {},
     "output_type": "execute_result"
    }
   ],
   "source": [
    "sum(train_data['rez_esc'].isna())  ## years behind in school"
   ]
  },
  {
   "cell_type": "code",
   "execution_count": 118,
   "metadata": {},
   "outputs": [
    {
     "data": {
      "text/plain": [
       "7342"
      ]
     },
     "execution_count": 118,
     "metadata": {},
     "output_type": "execute_result"
    }
   ],
   "source": [
    "sum(train_data['v18q1'].isna()) ## number of tablet"
   ]
  },
  {
   "cell_type": "code",
   "execution_count": 119,
   "metadata": {},
   "outputs": [
    {
     "data": {
      "text/plain": [
       "0    190000.0\n",
       "1    135000.0\n",
       "2         NaN\n",
       "3    180000.0\n",
       "4    180000.0\n",
       "Name: v2a1, dtype: float64"
      ]
     },
     "execution_count": 119,
     "metadata": {},
     "output_type": "execute_result"
    }
   ],
   "source": [
    "train_data['v2a1'].head() ## monthly rent"
   ]
  },
  {
   "cell_type": "code",
   "execution_count": 120,
   "metadata": {},
   "outputs": [],
   "source": [
    "# train_data.fillna(0, inplace=True)"
   ]
  },
  {
   "cell_type": "code",
   "execution_count": 121,
   "metadata": {},
   "outputs": [],
   "source": [
    "# train_data = train_data.drop(\"rez_esc\", axis = 1)"
   ]
  },
  {
   "cell_type": "code",
   "execution_count": 122,
   "metadata": {},
   "outputs": [
    {
     "data": {
      "text/plain": [
       "143"
      ]
     },
     "execution_count": 122,
     "metadata": {},
     "output_type": "execute_result"
    }
   ],
   "source": [
    "len(list(train_data))"
   ]
  },
  {
   "cell_type": "markdown",
   "metadata": {},
   "source": [
    "## Combine data"
   ]
  },
  {
   "cell_type": "code",
   "execution_count": 123,
   "metadata": {},
   "outputs": [],
   "source": [
    "# train_data = train_data.drop(\"tamhog\", axis = 1) ## repetitive data: tamhog & hhsize "
   ]
  },
  {
   "cell_type": "code",
   "execution_count": 124,
   "metadata": {},
   "outputs": [],
   "source": [
    "def pretreat_data(train_data):\n",
    "    train_data = train_data.drop(\"tamhog\", axis = 1)\n",
    "    train_data = train_data.drop(\"rez_esc\", axis = 1)\n",
    "    train_data.fillna(0, inplace=True)\n",
    "    \n",
    "    return train_data"
   ]
  },
  {
   "cell_type": "code",
   "execution_count": 125,
   "metadata": {},
   "outputs": [
    {
     "data": {
      "text/plain": [
       "143"
      ]
     },
     "execution_count": 125,
     "metadata": {},
     "output_type": "execute_result"
    }
   ],
   "source": [
    "# test\n",
    "len(list(train_data))"
   ]
  },
  {
   "cell_type": "code",
   "execution_count": 126,
   "metadata": {},
   "outputs": [],
   "source": [
    "def fill_outside_wall_material(row):\n",
    "    if row['paredblolad'] == 1:\n",
    "        return 'block or brick'\n",
    "    if row['paredzocalo'] == 1:\n",
    "        return 'socket'\n",
    "    if row['paredpreb'] == 1:\n",
    "        return 'prefabricated or cement'\n",
    "    if row['pareddes'] == 1:\n",
    "        return 'waste matrial'\n",
    "    if row['paredmad'] == 1:\n",
    "        return 'wood'\n",
    "    if row['paredzinc'] == 1:\n",
    "        return 'zink'\n",
    "    if row['paredfibras'] == 1:\n",
    "        return 'natural fibers'\n",
    "    if row['paredother'] == 1:\n",
    "        return 'other'"
   ]
  },
  {
   "cell_type": "code",
   "execution_count": 127,
   "metadata": {},
   "outputs": [],
   "source": [
    "def fill_floor_material(row):\n",
    "    if row['pisomoscer'] == 1:\n",
    "        return 'mosaic, ceramic, terrazo'\n",
    "    if row['pisocemento'] == 1:\n",
    "        return 'cement'\n",
    "    if row['pisoother'] == 1:\n",
    "        return 'other'\n",
    "    if row['pisonatur'] == 1:\n",
    "        return 'natural material'\n",
    "    if row['pisonotiene'] == 1:\n",
    "        return 'no floor'\n",
    "    if row['pisomadera'] == 1:\n",
    "        return 'wood'"
   ]
  },
  {
   "cell_type": "code",
   "execution_count": 128,
   "metadata": {},
   "outputs": [],
   "source": [
    "def fill_roof_material(row):\n",
    "    if row['techozinc'] == 1:\n",
    "        return 'metal foil or zink'\n",
    "    if row['techoentrepiso'] == 1:\n",
    "        return 'fiber cement or mezzanine'\n",
    "    if row['techocane'] == 1:\n",
    "        return 'natural fibers'\n",
    "    if row['techootro'] == 1:\n",
    "        return 'other'\n",
    "    if row['cielorazo'] != 1:\n",
    "        return 'no ceiling'"
   ]
  },
  {
   "cell_type": "code",
   "execution_count": 129,
   "metadata": {},
   "outputs": [],
   "source": [
    "def fill_water_provision(row):\n",
    "    if row['abastaguadentro'] == 1:\n",
    "        return 'inside the wall'\n",
    "    if row['abastaguafuera'] == 1:\n",
    "        return 'outside the wall'\n",
    "    if row['abastaguano'] == 1:\n",
    "        return 'no provision'"
   ]
  },
  {
   "cell_type": "code",
   "execution_count": 130,
   "metadata": {},
   "outputs": [],
   "source": [
    "def fill_electricity_source(row):\n",
    "    if row['public'] == 1:\n",
    "        return 'CNFL, ICE, ESPH/JASEC'\n",
    "    if row['planpri'] == 1:\n",
    "        return 'private plant'\n",
    "    if row['noelec'] == 1:\n",
    "        return 'no electricity'\n",
    "    if row['coopele'] == 1:\n",
    "        return 'cooperative'"
   ]
  },
  {
   "cell_type": "code",
   "execution_count": 131,
   "metadata": {},
   "outputs": [],
   "source": [
    "def fill_toilet(row):\n",
    "    if row['sanitario1'] == 1:\n",
    "        return 'no toilet'\n",
    "    if row['sanitario2'] == 1:\n",
    "        return 'sewer or cesspool'\n",
    "    if row['sanitario3'] == 1:\n",
    "        return 'septic tank'\n",
    "    if row['sanitario5'] == 1:\n",
    "        return 'black hole or letrine'\n",
    "    if row['sanitario6'] == 1:\n",
    "        return 'other system'"
   ]
  },
  {
   "cell_type": "code",
   "execution_count": 132,
   "metadata": {},
   "outputs": [],
   "source": [
    "def fill_cooking_energy_source(row):\n",
    "    if row['energcocinar1'] == 1:\n",
    "        return 'no kitchen'\n",
    "    if row['energcocinar2'] == 1:\n",
    "        return 'electricity'\n",
    "    if row['energcocinar3'] == 1:\n",
    "        return 'gas'\n",
    "    if row['energcocinar4'] == 1:\n",
    "        return 'wood charocal'"
   ]
  },
  {
   "cell_type": "code",
   "execution_count": 133,
   "metadata": {},
   "outputs": [],
   "source": [
    "def fill_rubbish_disposal(row):\n",
    "    if row['elimbasu1'] == 1:\n",
    "        return 'tanker trunck'\n",
    "    if row['elimbasu2'] == 1:\n",
    "        return 'botan hollow or buried'\n",
    "    if row['elimbasu3'] == 1:\n",
    "        return 'burning'\n",
    "    if row['elimbasu4'] == 1:\n",
    "        return 'unoccupied space'\n",
    "    if row['elimbasu5'] == 1:\n",
    "        return 'river, creek, or sea'\n",
    "    if row['elimbasu6'] == 1:\n",
    "        return 'other'"
   ]
  },
  {
   "cell_type": "code",
   "execution_count": 134,
   "metadata": {},
   "outputs": [],
   "source": [
    "def fill_wall_quality(row):\n",
    "    if row['epared1'] == 1:\n",
    "        return 'bad'\n",
    "    if row['epared2'] == 1:\n",
    "        return 'regular'\n",
    "    if row['epared3'] == 1:\n",
    "        return 'good'"
   ]
  },
  {
   "cell_type": "code",
   "execution_count": 135,
   "metadata": {},
   "outputs": [],
   "source": [
    "def fill_roof_quality(row):\n",
    "    if row['etecho1'] == 1:\n",
    "        return 'bad'\n",
    "    if row['etecho2'] == 1:\n",
    "        return 'regular'\n",
    "    if row['etecho3'] == 1:\n",
    "        return 'good'"
   ]
  },
  {
   "cell_type": "code",
   "execution_count": 136,
   "metadata": {},
   "outputs": [],
   "source": [
    "def fill_floor_quality(row):\n",
    "    if row['eviv1'] == 1:\n",
    "        return 'bad'\n",
    "    if row['eviv2'] == 1:\n",
    "        return 'regular'\n",
    "    if row['eviv3'] == 1:\n",
    "        return 'good'"
   ]
  },
  {
   "cell_type": "code",
   "execution_count": 137,
   "metadata": {},
   "outputs": [],
   "source": [
    "def fill_gender(row):\n",
    "    if row['male'] == 1:\n",
    "        return 'male'\n",
    "    if row['female'] == 1:\n",
    "        return 'female'"
   ]
  },
  {
   "cell_type": "code",
   "execution_count": 138,
   "metadata": {},
   "outputs": [],
   "source": [
    "def fill_civil_status(row):\n",
    "    if row['estadocivil1'] == 1:\n",
    "        return 'less than 10 years old'\n",
    "    if row['estadocivil2'] == 1:\n",
    "        return 'free or coupled union'\n",
    "    if row['estadocivil3'] == 1:\n",
    "        return 'married'\n",
    "    if row['estadocivil4'] == 1:\n",
    "        return 'divorced'\n",
    "    if row['estadocivil5'] == 1:\n",
    "        return 'separated'\n",
    "    if row['estadocivil6'] == 1:\n",
    "        return 'widow/er'\n",
    "    if row['estadocivil7'] == 1:\n",
    "        return 'single'"
   ]
  },
  {
   "cell_type": "code",
   "execution_count": 139,
   "metadata": {},
   "outputs": [],
   "source": [
    "def fill_relationship(row):\n",
    "    if row['parentesco1'] == 1:\n",
    "        return 'household head'\n",
    "    if row['parentesco2'] == 1:\n",
    "        return 'spouse/partner'\n",
    "    if row['parentesco3'] == 1:\n",
    "        return 'son/daughter'\n",
    "    if row['parentesco4'] == 1:\n",
    "        return 'stepson/daughter'\n",
    "    if row['parentesco5'] == 1:\n",
    "        return 'son/daughter in law'\n",
    "    if row['parentesco6'] == 1:\n",
    "        return 'grandson/daughter'\n",
    "    if row['parentesco7'] == 1:\n",
    "        return 'mother/father'\n",
    "    if row['parentesco8'] == 1:\n",
    "        return 'father/mother in law'\n",
    "    if row['parentesco9'] == 1:\n",
    "        return 'brother/sister'\n",
    "    if row['parentesco10'] == 1:\n",
    "        return 'brother/sister in law'\n",
    "    if row['parentesco11'] == 1:\n",
    "        return 'other family member'\n",
    "    if row['parentesco12'] == 1:\n",
    "        return 'other non family member'"
   ]
  },
  {
   "cell_type": "code",
   "execution_count": 140,
   "metadata": {},
   "outputs": [],
   "source": [
    "def fill_education_level(row):\n",
    "    if row['instlevel1'] == 1:\n",
    "        return 'no level of education'\n",
    "    if row['instlevel2'] == 1:\n",
    "        return 'incomplete primary'\n",
    "    if row['instlevel3'] == 1:\n",
    "        return 'complete primary'\n",
    "    if row['instlevel4'] == 1:\n",
    "        return 'incomplete academic secondary level'\n",
    "    if row['instlevel5'] == 1:\n",
    "        return 'complete academic secondary level'\n",
    "    if row['instlevel6'] == 1:\n",
    "        return 'incomplete technical secondary level'\n",
    "    if row['instlevel7'] == 1:\n",
    "        return 'complete technical secondary level'\n",
    "    if row['instlevel8'] == 1:\n",
    "        return 'undergraduate and higher education'\n",
    "    if row['instlevel9'] == 1:\n",
    "        return 'postgraduate higher education'"
   ]
  },
  {
   "cell_type": "code",
   "execution_count": 141,
   "metadata": {},
   "outputs": [],
   "source": [
    "def fill_type(row):\n",
    "    if row['tipovivi1'] == 1:\n",
    "        return 'own and fully paid house'\n",
    "    if row['tipovivi2'] == 1:\n",
    "        return 'own, paying in installments'\n",
    "    if row['tipovivi3'] == 1:\n",
    "        return 'rented'\n",
    "    if row['tipovivi4'] == 1:\n",
    "        return 'precarious'\n",
    "    if row['tipovivi5'] == 1:\n",
    "        return 'other, assigned or borrowed'"
   ]
  },
  {
   "cell_type": "code",
   "execution_count": 142,
   "metadata": {},
   "outputs": [],
   "source": [
    "def fill_place(row):\n",
    "    if row['lugar1'] == 1:\n",
    "        return 'Central'\n",
    "    if row['lugar2'] == 1:\n",
    "        return 'Chorotega'\n",
    "    if row['lugar3'] == 1:\n",
    "        return 'Pacifico central'\n",
    "    if row['lugar4'] == 1:\n",
    "        return 'Brunca'\n",
    "    if row['lugar5'] == 1: \n",
    "        return 'Huetar Atlantica'\n",
    "    if row['lugar6'] == 1:\n",
    "        return 'Huetar Norte'"
   ]
  },
  {
   "cell_type": "code",
   "execution_count": 143,
   "metadata": {},
   "outputs": [],
   "source": [
    "def fill_area(row):\n",
    "    if row['area1'] == 1:\n",
    "        return 'urban'\n",
    "    if row['area2'] == 1:\n",
    "        return 'rural'"
   ]
  },
  {
   "cell_type": "code",
   "execution_count": 144,
   "metadata": {},
   "outputs": [],
   "source": [
    "def combine_dummy_feature(train_data):\n",
    "    train_data['outside_wall_material'] = train_data.apply (lambda row: fill_outside_wall_material(row),axis=1)\n",
    "    train_data['floor_material'] = train_data.apply (lambda row: fill_floor_material(row),axis=1)    \n",
    "    train_data['roof_material'] = train_data.apply (lambda row: fill_roof_material(row),axis=1)\n",
    "    train_data['water_provision'] = train_data.apply (lambda row: fill_water_provision(row),axis=1)\n",
    "    train_data['electricity_source'] = train_data.apply (lambda row: fill_electricity_source(row),axis=1)\n",
    "    train_data['toilet'] = train_data.apply (lambda row: fill_toilet(row),axis=1)\n",
    "    train_data['cooking_energy_source'] = train_data.apply (lambda row: fill_cooking_energy_source(row),axis=1)\n",
    "    train_data['rubbish_disposal'] = train_data.apply (lambda row: fill_rubbish_disposal(row),axis=1)\n",
    "    train_data['wall_quality'] = train_data.apply (lambda row: fill_wall_quality(row),axis=1)\n",
    "    train_data['roof_quality'] = train_data.apply (lambda row: fill_roof_quality(row),axis=1)\n",
    "    train_data['floor_quality'] = train_data.apply (lambda row: fill_floor_quality(row),axis=1)  \n",
    "    train_data['gender'] = train_data.apply (lambda row: fill_gender(row),axis=1)\n",
    "    train_data['civil_status'] = train_data.apply (lambda row: fill_civil_status(row),axis=1)\n",
    "    train_data['relationship'] = train_data.apply (lambda row: fill_relationship(row),axis=1)    \n",
    "    train_data['education_level'] = train_data.apply (lambda row: fill_education_level(row),axis=1)\n",
    "    train_data['type'] = train_data.apply (lambda row: fill_type(row),axis=1)\n",
    "    train_data['place'] = train_data.apply (lambda row: fill_place(row),axis=1)    \n",
    "    train_data['area'] = train_data.apply (lambda row: fill_area(row),axis=1)\n",
    "    \n",
    "    return train_data"
   ]
  },
  {
   "cell_type": "code",
   "execution_count": 145,
   "metadata": {},
   "outputs": [],
   "source": [
    "def drop_dummy_col(train_data):\n",
    "    wall_lst = ['paredblolad','paredzocalo','paredpreb','pareddes','paredmad','paredzinc','paredfibras','paredother']\n",
    "    floor_lst = ['pisomoscer','pisocemento','pisoother','pisonatur','pisonotiene','pisomadera']\n",
    "    roof_lst = ['techozinc','techoentrepiso','techocane','techootro','cielorazo']\n",
    "    water_provision_lst = ['abastaguadentro','abastaguafuera','abastaguano']\n",
    "    electricity_lst = ['public','planpri','noelec','coopele']\n",
    "    toilet_lst = ['sanitario1','sanitario2','sanitario3','sanitario5','sanitario6']\n",
    "    energy_lst = ['energcocinar1','energcocinar2','energcocinar3','energcocinar4']\n",
    "    disposal_lst = ['elimbasu1','elimbasu2','elimbasu3','elimbasu4','elimbasu5','elimbasu6']\n",
    "    walls_quality_lst = ['epared1','epared2','epared3']\n",
    "    roof_quality_lst = ['etecho1','etecho2','etecho3']\n",
    "    floor_quality_lst = ['eviv1','eviv2','eviv3']\n",
    "    gender_lst = ['male','female']\n",
    "    status_lst = ['estadocivil1','estadocivil2','estadocivil3','estadocivil4','estadocivil5','estadocivil6','estadocivil7']\n",
    "    relationship_lst = ['parentesco1','parentesco2','parentesco3','parentesco4','parentesco5','parentesco6','parentesco7','parentesco8','parentesco9',\n",
    "                'parentesco10','parentesco11','parentesco12']\n",
    "    education_lst = ['instlevel1','instlevel2','instlevel3','instlevel4','instlevel5','instlevel6','instlevel7','instlevel8','instlevel9']\n",
    "    type_lst = ['tipovivi1','tipovivi2','tipovivi3','tipovivi4','tipovivi5']\n",
    "    region_lst = ['lugar1','lugar2','lugar3','lugar4','lugar5','lugar6']\n",
    "    area_lst = ['area1','area2']\n",
    "    \n",
    "    train_data = train_data.drop(wall_lst, axis = 1)\n",
    "    train_data = train_data.drop(floor_lst, axis = 1)\n",
    "    train_data = train_data.drop(roof_lst, axis = 1)\n",
    "    train_data = train_data.drop(water_provision_lst, axis = 1)\n",
    "    train_data = train_data.drop(electricity_lst, axis = 1)\n",
    "    train_data = train_data.drop(toilet_lst, axis = 1)\n",
    "    train_data = train_data.drop(energy_lst, axis = 1)\n",
    "    train_data = train_data.drop(disposal_lst, axis = 1)\n",
    "    train_data = train_data.drop(walls_quality_lst, axis = 1)\n",
    "    train_data = train_data.drop(roof_quality_lst, axis = 1)\n",
    "    train_data = train_data.drop(floor_quality_lst, axis = 1)\n",
    "    train_data = train_data.drop(gender_lst, axis = 1)\n",
    "    train_data = train_data.drop(status_lst, axis = 1)\n",
    "    train_data = train_data.drop(relationship_lst, axis = 1)    \n",
    "    train_data = train_data.drop(education_lst, axis = 1)\n",
    "    train_data = train_data.drop(type_lst, axis = 1)\n",
    "    train_data = train_data.drop(region_lst, axis = 1)\n",
    "    train_data = train_data.drop(area_lst, axis = 1)\n",
    "    \n",
    "    return train_data"
   ]
  },
  {
   "cell_type": "code",
   "execution_count": 147,
   "metadata": {},
   "outputs": [],
   "source": [
    "def clean_dataframe(train_data):\n",
    "    train_data = pretreat_data(train_data)\n",
    "    clean_data = combine_dummy_feature(train_data)\n",
    "    clean_data = drop_dummy_col(clean_data)\n",
    "    \n",
    "    return clean_data"
   ]
  },
  {
   "cell_type": "code",
   "execution_count": 148,
   "metadata": {},
   "outputs": [],
   "source": [
    "clean_data = clean_dataframe(train_data)"
   ]
  },
  {
   "cell_type": "code",
   "execution_count": 155,
   "metadata": {},
   "outputs": [],
   "source": [
    "clean_data.to_csv(\"poverty/src/data/poverty_data.csv\", index=False)"
   ]
  },
  {
   "cell_type": "code",
   "execution_count": null,
   "metadata": {},
   "outputs": [],
   "source": []
  }
 ],
 "metadata": {
  "kernelspec": {
   "display_name": "Python 3",
   "language": "python",
   "name": "python3"
  },
  "language_info": {
   "codemirror_mode": {
    "name": "ipython",
    "version": 3
   },
   "file_extension": ".py",
   "mimetype": "text/x-python",
   "name": "python",
   "nbconvert_exporter": "python",
   "pygments_lexer": "ipython3",
   "version": "3.6.5"
  }
 },
 "nbformat": 4,
 "nbformat_minor": 2
}

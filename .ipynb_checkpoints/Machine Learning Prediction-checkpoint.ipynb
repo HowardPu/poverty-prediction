{
 "cells": [
  {
   "cell_type": "code",
   "execution_count": 1,
   "metadata": {},
   "outputs": [],
   "source": [
    "import pandas as pd\n",
    "import seaborn as sns\n",
    "from matplotlib import pyplot as plt\n",
    "import altair as alt\n",
    "alt.renderers.enable('notebook')\n",
    "\n",
    "from sklearn.feature_selection import SelectFromModel\n",
    "from sklearn.preprocessing import MinMaxScaler       \n",
    "from sklearn.model_selection import train_test_split \n",
    "from sklearn.preprocessing import PolynomialFeatures\n",
    "from sklearn.model_selection import GridSearchCV     \n",
    "from sklearn.pipeline import make_pipeline    \n",
    "\n",
    "from sklearn.naive_bayes import GaussianNB, BernoulliNB, MultinomialNB\n",
    "\n",
    "from sklearn.model_selection import KFold\n",
    "\n",
    "from statsmodels.tools import eval_measures\n",
    "from sklearn.feature_selection import SelectPercentile\n",
    "from sklearn.feature_selection import VarianceThreshold"
   ]
  },
  {
   "cell_type": "code",
   "execution_count": 3,
   "metadata": {},
   "outputs": [],
   "source": [
    "poverty_data = pd.read_csv(\"poverty/src/data/poverty_data_with_dummy.csv\")"
   ]
  },
  {
   "cell_type": "code",
   "execution_count": 4,
   "metadata": {},
   "outputs": [],
   "source": [
    "train_features, test_features, train_outcome, test_outcome = train_test_split(\n",
    "    poverty_data.drop(\"Target\", axis = 1),\n",
    "    poverty_data.Target,\n",
    "    test_size=0.30, \n",
    "    random_state=11\n",
    ")"
   ]
  },
  {
   "cell_type": "code",
   "execution_count": 5,
   "metadata": {},
   "outputs": [],
   "source": [
    "# selector, threshold for feature selection\n",
    "selecter = SelectPercentile()\n",
    "threshold = VarianceThreshold(.1)\n",
    "\n",
    "# number of folds for cross validation\n",
    "folds = KFold(n_splits=10, shuffle=True, random_state=11)"
   ]
  },
  {
   "cell_type": "code",
   "execution_count": null,
   "metadata": {},
   "outputs": [],
   "source": [
    "nb_scaler = MinMaxScaler()\n",
    "nb_clf = MultinomialNB()\n",
    "\n",
    "nb_poly = PolynomialFeatures()\n",
    "\n",
    "nb_pipe = make_pipeline(nb_poly, threshold,  nb_scaler, selecter, nb_clf)\n",
    "\n",
    "# define a KNN grid and hyper tuning\n",
    "nb_param_grid = {'polynomialfeatures__degree':range(1, 3), \n",
    "                  'selectpercentile__percentile':range(10, 30, 5)}\n",
    "\n",
    "nb_grid_search = GridSearchCV(nb_pipe, nb_param_grid, cv=folds)\n",
    "\n",
    "nb_grid_search_fitted = nb_grid_search.fit(train_features, train_outcome)"
   ]
  },
  {
   "cell_type": "code",
   "execution_count": null,
   "metadata": {},
   "outputs": [],
   "source": []
  }
 ],
 "metadata": {
  "kernelspec": {
   "display_name": "Python 3",
   "language": "python",
   "name": "python3"
  },
  "language_info": {
   "codemirror_mode": {
    "name": "ipython",
    "version": 3
   },
   "file_extension": ".py",
   "mimetype": "text/x-python",
   "name": "python",
   "nbconvert_exporter": "python",
   "pygments_lexer": "ipython3",
   "version": "3.6.5"
  }
 },
 "nbformat": 4,
 "nbformat_minor": 2
}
